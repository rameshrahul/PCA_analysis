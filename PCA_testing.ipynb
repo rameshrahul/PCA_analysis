{
 "cells": [
  {
   "cell_type": "code",
   "execution_count": 1,
   "metadata": {},
   "outputs": [],
   "source": [
    "import numpy as np"
   ]
  },
  {
   "cell_type": "markdown",
   "metadata": {},
   "source": [
    "Testing code using randomly generated matrices"
   ]
  },
  {
   "cell_type": "code",
   "execution_count": 2,
   "metadata": {},
   "outputs": [],
   "source": [
    "import PCA_implementations as algorithms\n",
    "import PCA_metrics as metrics\n",
    "from PCA_implementations import reconstruct_PCA, k_dim_PCA, microsoft_alg_1, laplace_input_perturbation, wishart_input_perturbation\n",
    "\n",
    "A = np.random.rand(20, 30)"
   ]
  },
  {
   "cell_type": "code",
   "execution_count": 3,
   "metadata": {},
   "outputs": [],
   "source": [
    "k = 20\n",
    "PCA_A = algorithms.k_dim_PCA(np.matmul(np.transpose(A), A), 10)\n"
   ]
  },
  {
   "cell_type": "code",
   "execution_count": 4,
   "metadata": {},
   "outputs": [],
   "source": [
    "insurance = np.loadtxt(\"data/ticdata2000.txt\") #https://liacs.leidenuniv.nl/~puttenpwhvander/library/cc2000/\n",
    "o_ring = np.loadtxt(\"data/o-ring-erosion-only.data\") #https://archive.ics.uci.edu/ml/datasets/Challenger+USA+Space+Shuttle+O-Ring\n",
    "vowels = np.loadtxt(\"data/ae.test\")# https://archive.ics.uci.edu/ml/datasets/Japanese+Vowels"
   ]
  },
  {
   "cell_type": "code",
   "execution_count": null,
   "metadata": {},
   "outputs": [],
   "source": []
  },
  {
   "cell_type": "code",
   "execution_count": 5,
   "metadata": {},
   "outputs": [],
   "source": [
    "epsilon_range = [0.01, 0.1, 0.2, 0.5, 1, 2, 3, 4, 5]\n",
    "delta_range = [0.001, 0.01, 0.1, 0.5, 1]"
   ]
  },
  {
   "cell_type": "code",
   "execution_count": 8,
   "metadata": {},
   "outputs": [],
   "source": [
    "#data_vars = {\"random\":A, \"o-ring\":o_ring}#, \"ae\":vowels, \"insurance\":insurance}\n",
    "\n",
    "\n",
    "random_results = {}\n",
    "o_ring_results = {}\n",
    "vowels_results = {}\n",
    "insurance_results = {}\n",
    "\n",
    "PCA_random = reconstruct_PCA(A, k_dim_PCA(A, k))\n",
    "PCA_oring = reconstruct_PCA(o_ring, k_dim_PCA(o_ring, k))\n",
    "\n",
    "\n",
    "for epsilon in epsilon_range:\n",
    "    random_results[epsilon] = {}\n",
    "    o_ring_results[epsilon] = {}\n",
    "    for delta in delta_range:\n",
    "        random_results[epsilon][delta] = {}\n",
    "        o_ring_results[epsilon][delta] = {}\n",
    "        \n",
    "        microsoft_PCA = reconstruct_PCA(A, microsoft_alg_1(A,epsilon, delta, k))\n",
    "        wishart_PCA = reconstruct_PCA(A, wishart_input_perturbation(A, epsilon, k))\n",
    "        laplace_PCA = reconstruct_PCA(A, laplace_input_perturbation(A, epsilon, k))\n",
    "        random_results[epsilon][delta][\"microsoft\"] = metrics.subspace_dist(PCA_random, microsoft_PCA)\n",
    "        random_results[epsilon][delta][\"wishart\"] = metrics.subspace_dist(PCA_random, wishart_PCA)\n",
    "        random_results[epsilon][delta][\"laplace\"] = metrics.subspace_dist(PCA_random, laplace_PCA)\n",
    "        \n",
    "        \n",
    "        microsoft_PCA = reconstruct_PCA(o_ring, microsoft_alg_1(o_ring,epsilon, delta, k))\n",
    "        wishart_PCA = reconstruct_PCA(o_ring, wishart_input_perturbation(o_ring, epsilon, k))\n",
    "        laplace_PCA = reconstruct_PCA(o_ring, laplace_input_perturbation(o_ring, epsilon, k))\n",
    "        o_ring_results[epsilon][delta][\"microsoft\"] = metrics.subspace_dist(PCA_oring, microsoft_PCA)\n",
    "        o_ring_results[epsilon][delta][\"wishart\"] = metrics.subspace_dist(PCA_oring, wishart_PCA)\n",
    "        o_ring_results[epsilon][delta][\"laplace\"] = metrics.subspace_dist(PCA_oring, laplace_PCA)\n",
    "        \n",
    "        "
   ]
  },
  {
   "cell_type": "code",
   "execution_count": 9,
   "metadata": {},
   "outputs": [
    {
     "name": "stdout",
     "output_type": "stream",
     "text": [
      "{0.01: {0.001: {'microsoft': 10.065309592109081, 'wishart': 10.735594089851569, 'laplace': 9.831538937529025}, 0.01: {'microsoft': 11.169387601432867, 'wishart': 10.205187079220053, 'laplace': 9.824207139117215}, 0.1: {'microsoft': 10.337180547132082, 'wishart': 9.478957309256788, 'laplace': 10.785042729381328}, 0.5: {'microsoft': 9.741925272937955, 'wishart': 9.877249795428524, 'laplace': 10.485095241604958}, 1: {'microsoft': 8.719616286730028, 'wishart': 9.713672377554621, 'laplace': 10.30478949393496}}, 0.1: {0.001: {'microsoft': 10.232631906640274, 'wishart': 9.235362416097734, 'laplace': 10.765831577817425}, 0.01: {'microsoft': 8.925687211114932, 'wishart': 8.957927322260595, 'laplace': 9.835939094557585}, 0.1: {'microsoft': 10.520924533070767, 'wishart': 8.478045078669119, 'laplace': 10.034282754485458}, 0.5: {'microsoft': 9.464776840866307, 'wishart': 9.193553070409001, 'laplace': 10.623044084460465}, 1: {'microsoft': 9.951344323298365, 'wishart': 9.635446966681132, 'laplace': 9.545276335494131}}, 0.2: {0.001: {'microsoft': 8.431237960751629, 'wishart': 10.432994315679844, 'laplace': 10.116699262592846}, 0.01: {'microsoft': 8.42302413199315, 'wishart': 10.128772454909347, 'laplace': 9.964839633709257}, 0.1: {'microsoft': 10.046984625817654, 'wishart': 9.38398492287364, 'laplace': 10.88732266136065}, 0.5: {'microsoft': 8.458599467654922, 'wishart': 9.088410983907206, 'laplace': 9.18999502563791}, 1: {'microsoft': 10.301314209197821, 'wishart': 8.433621486139987, 'laplace': 9.709998018771682}}, 0.5: {0.001: {'microsoft': 10.410812951066292, 'wishart': 9.8567647997262, 'laplace': 9.818282000299169}, 0.01: {'microsoft': 9.83665765372529, 'wishart': 10.374060207391588, 'laplace': 9.786395126794497}, 0.1: {'microsoft': 9.858191980521385, 'wishart': 9.819251625184464, 'laplace': 9.89931359281818}, 0.5: {'microsoft': 9.924634158848765, 'wishart': 10.162138758999033, 'laplace': 7.623864638061599}, 1: {'microsoft': 9.46490418244057, 'wishart': 10.488433850663244, 'laplace': 10.801507396808889}}, 1: {0.001: {'microsoft': 9.042342798377845, 'wishart': 6.882415541989574, 'laplace': 9.541759305731231}, 0.01: {'microsoft': 9.470844234890887, 'wishart': 10.245127817888163, 'laplace': 7.876311307405423}, 0.1: {'microsoft': 9.837009165089587, 'wishart': 9.133298650678514, 'laplace': 9.036805518307217}, 0.5: {'microsoft': 9.864496419756188, 'wishart': 8.622105586919039, 'laplace': 9.177327906181315}, 1: {'microsoft': 9.108598340902368, 'wishart': 9.43724339739683, 'laplace': 9.482186095171734}}, 2: {0.001: {'microsoft': 8.811152508903708, 'wishart': 9.212396854011786, 'laplace': 9.552111347783356}, 0.01: {'microsoft': 10.363425103136384, 'wishart': 9.64721604660206, 'laplace': 8.901597082840963}, 0.1: {'microsoft': 9.118310018430854, 'wishart': 8.660464316400672, 'laplace': 9.231302803003999}, 0.5: {'microsoft': 8.736880605090665, 'wishart': 10.211763317237441, 'laplace': 9.368576605593164}, 1: {'microsoft': 8.598357331787044, 'wishart': 9.805288852902118, 'laplace': 9.688121390913642}}, 3: {0.001: {'microsoft': 9.037341133865889, 'wishart': 9.148555977652371, 'laplace': 10.068392852833327}, 0.01: {'microsoft': 9.64743364682022, 'wishart': 8.567282149133087, 'laplace': 10.154665245785116}, 0.1: {'microsoft': 8.869483311372418, 'wishart': 9.301693029740095, 'laplace': 10.430728500037254}, 0.5: {'microsoft': 8.618214592131736, 'wishart': 8.240324239353228, 'laplace': 10.184569798107031}, 1: {'microsoft': 8.535555456516578, 'wishart': 9.53473696089168, 'laplace': 9.575881960994922}}, 4: {0.001: {'microsoft': 9.998544699772683, 'wishart': 8.644387679843451, 'laplace': 9.559000375387843}, 0.01: {'microsoft': 9.026073675715537, 'wishart': 8.548077895040862, 'laplace': 10.084006331653908}, 0.1: {'microsoft': 8.885131478922291, 'wishart': 8.964108751203943, 'laplace': 9.42709730268467}, 0.5: {'microsoft': 8.535464205076892, 'wishart': 8.777403049049028, 'laplace': 10.623981582566616}, 1: {'microsoft': 8.481020907746943, 'wishart': 8.912230200573092, 'laplace': 9.767382496512685}}, 5: {0.001: {'microsoft': 8.876532202999039, 'wishart': 8.199498393248492, 'laplace': 10.324606564088485}, 0.01: {'microsoft': 8.85455445876881, 'wishart': 8.449865534767332, 'laplace': 10.85332988531588}, 0.1: {'microsoft': 8.550189012042116, 'wishart': 8.959603105378386, 'laplace': 8.507179012887013}, 0.5: {'microsoft': 8.483222019147702, 'wishart': 8.86207314626981, 'laplace': 8.941303389743062}, 1: {'microsoft': 8.475334027182798, 'wishart': 8.278378399637752, 'laplace': 10.992588751193907}}}\n"
     ]
    }
   ],
   "source": [
    "print(random_results)"
   ]
  },
  {
   "cell_type": "code",
   "execution_count": 3,
   "metadata": {},
   "outputs": [],
   "source": [
    "import cv2\n",
    "import sklearn"
   ]
  },
  {
   "cell_type": "code",
   "execution_count": 28,
   "metadata": {},
   "outputs": [
    {
     "data": {
      "text/plain": [
       "True"
      ]
     },
     "execution_count": 28,
     "metadata": {},
     "output_type": "execute_result"
    }
   ],
   "source": [
    "im = cv2.imread(\"data/monarch.png\")\n",
    "im = cv2.cvtColor(im, cv2.COLOR_BGR2GRAY)\n",
    "cv2.imwrite(\"output/monarch_original.jpg\", im)"
   ]
  },
  {
   "cell_type": "code",
   "execution_count": 29,
   "metadata": {},
   "outputs": [
    {
     "data": {
      "text/plain": [
       "True"
      ]
     },
     "execution_count": 29,
     "metadata": {},
     "output_type": "execute_result"
    }
   ],
   "source": [
    "Xhat = algorithms.reconstruct_PCA(im, algorithms.k_dim_PCA(im, 100))\n",
    "Xhat = cv2.normalize(Xhat, Xhat, 0, 255, cv2.NORM_MINMAX)\n",
    "cv2.imwrite(\"output/monarch_PCA_100.jpg\", Xhat)"
   ]
  },
  {
   "cell_type": "code",
   "execution_count": 30,
   "metadata": {},
   "outputs": [
    {
     "data": {
      "text/plain": [
       "True"
      ]
     },
     "execution_count": 30,
     "metadata": {},
     "output_type": "execute_result"
    }
   ],
   "source": [
    "Xhat_approx = algorithms.reconstruct_PCA(im, algorithms.microsoft_alg_1(im, 1, 0.2, 100))\n",
    "Xhat_approx = cv2.normalize(Xhat_approx, Xhat_approx, 0, 255, cv2.NORM_MINMAX)\n",
    "cv2.imwrite(\"output/monarch_Microsoft_100.jpg\", Xhat_approx)"
   ]
  },
  {
   "cell_type": "code",
   "execution_count": 31,
   "metadata": {},
   "outputs": [
    {
     "data": {
      "text/plain": [
       "True"
      ]
     },
     "execution_count": 31,
     "metadata": {},
     "output_type": "execute_result"
    }
   ],
   "source": [
    "Xhat_wishart = algorithms.reconstruct_PCA(im, algorithms.wishart_input_perturbation(im, 1, 100))\n",
    "Xhat_wishart = cv2.normalize(Xhat_wishart, Xhat_wishart, 0, 255, cv2.NORM_MINMAX)\n",
    "cv2.imwrite(\"output/monarch_Wishart_100.jpg\", Xhat_wishart)"
   ]
  },
  {
   "cell_type": "code",
   "execution_count": 15,
   "metadata": {},
   "outputs": [],
   "source": [
    "\n",
    "\n",
    "\n",
    "cv2.imshow(\"regular\", im)\n",
    "cv2.waitKey(0)\n",
    "cv2.imshow(\"pca image\", Xhat)\n",
    "cv2.waitKey(0)\n",
    "cv2.imshow(\"pca image perturbed by microsoft alg\", Xhat_approx)\n",
    "cv2.waitKey(0)\n",
    "cv2.imshow(\"pca image perturbed by wishart\", Xhat_wishart)\n",
    "cv2.waitKey(0)\n",
    "cv2.destroyAllWindows()"
   ]
  },
  {
   "cell_type": "code",
   "execution_count": null,
   "metadata": {},
   "outputs": [],
   "source": []
  },
  {
   "cell_type": "code",
   "execution_count": null,
   "metadata": {},
   "outputs": [],
   "source": []
  }
 ],
 "metadata": {
  "kernelspec": {
   "display_name": "Python 3",
   "language": "python",
   "name": "python3"
  },
  "language_info": {
   "codemirror_mode": {
    "name": "ipython",
    "version": 3
   },
   "file_extension": ".py",
   "mimetype": "text/x-python",
   "name": "python",
   "nbconvert_exporter": "python",
   "pygments_lexer": "ipython3",
   "version": "3.7.6"
  }
 },
 "nbformat": 4,
 "nbformat_minor": 4
}
