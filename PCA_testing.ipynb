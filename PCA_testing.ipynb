{
 "cells": [
  {
   "cell_type": "code",
   "execution_count": 1,
   "metadata": {},
   "outputs": [],
   "source": [
    "import numpy as np"
   ]
  },
  {
   "cell_type": "markdown",
   "metadata": {},
   "source": [
    "Testing code using randomly generated matrices"
   ]
  },
  {
   "cell_type": "code",
   "execution_count": 13,
   "metadata": {},
   "outputs": [],
   "source": [
    "import PCA_implementations as algorithms\n",
    "import PCA_metrics as metrics\n",
    "\n",
    "A = np.random.rand(20, 30)"
   ]
  },
  {
   "cell_type": "code",
   "execution_count": 14,
   "metadata": {},
   "outputs": [],
   "source": [
    "k = 10\n",
    "PCA_A = algorithms.k_dim_PCA(np.matmul(np.transpose(A), A), 10)\n"
   ]
  },
  {
   "cell_type": "code",
   "execution_count": null,
   "metadata": {},
   "outputs": [],
   "source": []
  },
  {
   "cell_type": "code",
   "execution_count": null,
   "metadata": {},
   "outputs": [],
   "source": [
    "    "
   ]
  },
  {
   "cell_type": "code",
   "execution_count": 15,
   "metadata": {},
   "outputs": [],
   "source": [
    "epsilon_range = [0.01, 0.1, 0.2, 0.5, 1, 2, 3, 4, 5]\n",
    "delta_range = [0.001, 0.01, 0.1, 0.5, 1]"
   ]
  },
  {
   "cell_type": "code",
   "execution_count": 16,
   "metadata": {},
   "outputs": [
    {
     "name": "stdout",
     "output_type": "stream",
     "text": [
      "epsilon: 0.01\n",
      "\tdelta: 0.001\n",
      "\t\t3618925.069376362\n",
      "\tdelta: 0.01\n",
      "\t\t2557586.9021760095\n",
      "\tdelta: 0.1\n",
      "\t\t1300211.4682345847\n",
      "\tdelta: 0.5\n",
      "\t\t490792.91672421887\n",
      "\tdelta: 1\n",
      "\t\t123894.74489401847\n",
      "epsilon: 0.1\n",
      "\tdelta: 0.001\n",
      "\t\t38188.39061234413\n",
      "\tdelta: 0.01\n",
      "\t\t25534.197893903674\n",
      "\tdelta: 0.1\n",
      "\t\t13343.893324459656\n",
      "\tdelta: 0.5\n",
      "\t\t4698.894105646028\n",
      "\tdelta: 1\n",
      "\t\t1231.6651065810786\n",
      "epsilon: 0.2\n",
      "\tdelta: 0.001\n",
      "\t\t9394.589977639547\n",
      "\tdelta: 0.01\n",
      "\t\t6254.076686774682\n",
      "\tdelta: 0.1\n",
      "\t\t3245.424045782867\n",
      "\tdelta: 0.5\n",
      "\t\t1189.6207959550395\n",
      "\tdelta: 1\n",
      "\t\t321.9725612457319\n",
      "epsilon: 0.5\n",
      "\tdelta: 0.001\n",
      "\t\t1454.535383515317\n",
      "\tdelta: 0.01\n",
      "\t\t990.484483241639\n",
      "\tdelta: 0.1\n",
      "\t\t503.19637282783106\n",
      "\tdelta: 0.5\n",
      "\t\t192.7282720272266\n",
      "\tdelta: 1\n",
      "\t\t46.360243053136664\n",
      "epsilon: 1\n",
      "\tdelta: 0.001\n",
      "\t\t396.4891203466988\n",
      "\tdelta: 0.01\n",
      "\t\t260.457004392898\n",
      "\tdelta: 0.1\n",
      "\t\t134.83773527806076\n",
      "\tdelta: 0.5\n",
      "\t\t47.494796544690836\n",
      "\tdelta: 1\n",
      "\t\t12.553841707172676\n",
      "epsilon: 2\n",
      "\tdelta: 0.001\n",
      "\t\t89.42158565980439\n",
      "\tdelta: 0.01\n",
      "\t\t60.25056068315442\n",
      "\tdelta: 0.1\n",
      "\t\t35.28181543221563\n",
      "\tdelta: 0.5\n",
      "\t\t13.027468308993647\n",
      "\tdelta: 1\n",
      "\t\t2.9669766696260607\n",
      "epsilon: 3\n",
      "\tdelta: 0.001\n",
      "\t\t40.73251899367578\n",
      "\tdelta: 0.01\n",
      "\t\t27.548393117772914\n",
      "\tdelta: 0.1\n",
      "\t\t14.470900640882965\n",
      "\tdelta: 0.5\n",
      "\t\t5.312876424888913\n",
      "\tdelta: 1\n",
      "\t\t1.2103005608085775\n",
      "epsilon: 4\n",
      "\tdelta: 0.001\n",
      "\t\t22.5421523720249\n",
      "\tdelta: 0.01\n",
      "\t\t16.25482606153967\n",
      "\tdelta: 0.1\n",
      "\t\t8.69523802360044\n",
      "\tdelta: 0.5\n",
      "\t\t3.4040578325124784\n",
      "\tdelta: 1\n",
      "\t\t0.8285098669671067\n",
      "epsilon: 5\n",
      "\tdelta: 0.001\n",
      "\t\t16.28918294076041\n",
      "\tdelta: 0.01\n",
      "\t\t11.008705360200082\n",
      "\tdelta: 0.1\n",
      "\t\t5.7854640163207005\n",
      "\tdelta: 0.5\n",
      "\t\t2.1282690428304853\n",
      "\tdelta: 1\n",
      "\t\t0.5103293849075111\n"
     ]
    }
   ],
   "source": [
    "for epsilon in epsilon_range:\n",
    "    print(\"epsilon: {}\".format(epsilon))\n",
    "    for delta in delta_range:\n",
    "        print(\"\\tdelta: {}\".format(delta))\n",
    "        alg_1_PCA = algorithms.microsoft_alg_1(A,epsilon, delta, k)\n",
    "        print(\"\\t\\t{}\".format(metrics.subspace_dist(PCA_A, alg_1_PCA)))"
   ]
  },
  {
   "cell_type": "code",
   "execution_count": 3,
   "metadata": {},
   "outputs": [],
   "source": [
    "import cv2\n",
    "import sklearn"
   ]
  },
  {
   "cell_type": "code",
   "execution_count": 4,
   "metadata": {},
   "outputs": [
    {
     "name": "stdout",
     "output_type": "stream",
     "text": [
      "17 245\n"
     ]
    }
   ],
   "source": [
    "im = cv2.imread(\"data/monarch.png\")\n",
    "im = cv2.cvtColor(im, cv2.COLOR_BGR2GRAY)\n",
    "#im = cv2.resize(im, (512, 512))\n",
    "print(np.amin(im), np.amax(im))"
   ]
  },
  {
   "cell_type": "code",
   "execution_count": 9,
   "metadata": {},
   "outputs": [],
   "source": [
    "Xhat = algorithms.k_dim_PCA(im, 100)\n",
    "Xhat = cv2.normalize(Xhat, Xhat, 0, 1, cv2.NORM_MINMAX)"
   ]
  },
  {
   "cell_type": "code",
   "execution_count": 19,
   "metadata": {},
   "outputs": [],
   "source": [
    "Xhat_approx = algorithms.microsoft_alg_1(im, 3, 0.5, 100)\n",
    "Xhat_approx = cv2.normalize(Xhat_approx, Xhat_approx, 0, 1, cv2.NORM_MINMAX)"
   ]
  },
  {
   "cell_type": "code",
   "execution_count": 21,
   "metadata": {},
   "outputs": [
    {
     "name": "stdout",
     "output_type": "stream",
     "text": [
      "(512, 768) (512, 768) (768, 768)\n"
     ]
    }
   ],
   "source": [
    "print(im.shape, Xhat.shape, Xhat_approx.shape)\n",
    "cv2.imshow(\"regular\", im)\n",
    "cv2.waitKey(0)\n",
    "cv2.imshow(\"pca image\", Xhat)\n",
    "cv2.waitKey(0)\n",
    "cv2.imshow(\"pca image\", Xhat_approx)\n",
    "cv2.waitKey(0)\n",
    "cv2.destroyAllWindows()"
   ]
  },
  {
   "cell_type": "code",
   "execution_count": null,
   "metadata": {},
   "outputs": [],
   "source": []
  },
  {
   "cell_type": "code",
   "execution_count": null,
   "metadata": {},
   "outputs": [],
   "source": []
  }
 ],
 "metadata": {
  "kernelspec": {
   "display_name": "Python 3",
   "language": "python",
   "name": "python3"
  },
  "language_info": {
   "codemirror_mode": {
    "name": "ipython",
    "version": 3
   },
   "file_extension": ".py",
   "mimetype": "text/x-python",
   "name": "python",
   "nbconvert_exporter": "python",
   "pygments_lexer": "ipython3",
   "version": "3.7.6"
  }
 },
 "nbformat": 4,
 "nbformat_minor": 4
}
