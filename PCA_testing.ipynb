{
 "cells": [
  {
   "cell_type": "code",
   "execution_count": 1,
   "metadata": {},
   "outputs": [],
   "source": [
    "import numpy as np\n",
    "import scipy"
   ]
  },
  {
   "cell_type": "markdown",
   "metadata": {},
   "source": [
    "Testing code using randomly generated matrices"
   ]
  },
  {
   "cell_type": "code",
   "execution_count": 2,
   "metadata": {},
   "outputs": [],
   "source": [
    "import PCA_implementations as algorithms\n",
    "import PCA_metrics as metrics\n",
    "from PCA_implementations import reconstruct_PCA, k_dim_PCA, gaussian, laplace, wishart\n",
    "\n",
    "A = np.random.rand(20, 30)"
   ]
  },
  {
   "cell_type": "code",
   "execution_count": 3,
   "metadata": {},
   "outputs": [],
   "source": [
    "k = 20\n",
    "#PCA_A = algorithms.k_dim_PCA(np.matmul(np.transpose(A), A), 10)\n",
    "\n",
    "#TODO: create a random matrix that's sparse\n",
    "random_sparse = scipy.sparse.random(30, 40)"
   ]
  },
  {
   "cell_type": "code",
   "execution_count": 4,
   "metadata": {},
   "outputs": [],
   "source": [
    "insurance = np.loadtxt(\"data/ticdata2000.txt\") #https://liacs.leidenuniv.nl/~puttenpwhvander/library/cc2000/\n",
    "o_ring = np.loadtxt(\"data/o-ring-erosion-only.data\") #https://archive.ics.uci.edu/ml/datasets/Challenger+USA+Space+Shuttle+O-Ring\n",
    "vowels = np.loadtxt(\"data/ae.test\")# https://archive.ics.uci.edu/ml/datasets/Japanese+Vowels"
   ]
  },
  {
   "cell_type": "code",
   "execution_count": null,
   "metadata": {},
   "outputs": [],
   "source": []
  },
  {
   "cell_type": "code",
   "execution_count": 9,
   "metadata": {},
   "outputs": [],
   "source": [
    "epsilon_range = [0.01, 0.1, 0.2, 0.5, 1, 2, 3, 4, 5]\n",
    "delta_range = [0.001, 0.01, 0.1, 0.5, 1]\n",
    "data_vars = {\"random\":A, \"o-ring\":o_ring, \"ae\":vowels, \"insurance\":insurance}#, \"random sparse\":random_sparse}\n",
    "#data_vars = {\"random sparse\":random_sparse}\n",
    "algs = {\"gaussian\": gaussian, \"laplace\": laplace, \"wishart\": wishart }\n"
   ]
  },
  {
   "cell_type": "code",
   "execution_count": 10,
   "metadata": {},
   "outputs": [],
   "source": [
    "\n",
    "results_by_data = {}\n",
    "\n",
    "for name in data_vars:\n",
    "    data = data_vars[name]\n",
    "    PCA_approx = reconstruct_PCA(data, k_dim_PCA(data, k))\n",
    "    results = {}\n",
    "    for epsilon in epsilon_range:\n",
    "        results[epsilon] = {}\n",
    "        for delta in delta_range:\n",
    "            results[epsilon][delta] = {}\n",
    "            for alg in algs:\n",
    "                PCA_alg_approx = algs[alg](data, epsilon, delta, k)\n",
    "                results[epsilon][delta][alg] = metrics.subspace_dist(PCA_approx, PCA_alg_approx)\n",
    "    results_by_data[name] = results"
   ]
  },
  {
   "cell_type": "code",
   "execution_count": null,
   "metadata": {},
   "outputs": [],
   "source": []
  },
  {
   "cell_type": "code",
   "execution_count": null,
   "metadata": {},
   "outputs": [],
   "source": [
    "import matplotlib.pyplot as plt\n",
    "\n",
    "print (\"Plots\")\n",
    "\n",
    "for name in data_vars:\n",
    "    print (\"Plotting results for {} data\".format(name))\n",
    "    results = results_by_data[name]\n",
    "    for delta in delta_range:\n",
    "        for alg in algs:\n",
    "            plt.plot(epsilon_range,[results[epsilon][delta][alg] for epsilon in epsilon_range], label=alg)\n",
    "        plt.title('{} data, delta={}'.format(name, delta))\n",
    "        plt.xlabel('epsilon')\n",
    "        plt.ylabel('error')\n",
    "        plt.legend()\n",
    "        plt.show()\n"
   ]
  },
  {
   "cell_type": "code",
   "execution_count": null,
   "metadata": {},
   "outputs": [],
   "source": []
  },
  {
   "cell_type": "code",
   "execution_count": null,
   "metadata": {},
   "outputs": [],
   "source": [
    "import cv2\n",
    "import sklearn"
   ]
  },
  {
   "cell_type": "code",
   "execution_count": null,
   "metadata": {},
   "outputs": [],
   "source": [
    "im = cv2.imread(\"data/monarch.png\")\n",
    "im = cv2.cvtColor(im, cv2.COLOR_BGR2GRAY)\n",
    "cv2.imwrite(\"output/monarch_original.jpg\", im)"
   ]
  },
  {
   "cell_type": "code",
   "execution_count": null,
   "metadata": {},
   "outputs": [],
   "source": [
    "Xhat = algorithms.reconstruct_PCA(im, algorithms.k_dim_PCA(im, 100))\n",
    "Xhat = cv2.normalize(Xhat, Xhat, 0, 255, cv2.NORM_MINMAX)\n",
    "cv2.imwrite(\"output/monarch_PCA_100.jpg\", Xhat)"
   ]
  },
  {
   "cell_type": "code",
   "execution_count": null,
   "metadata": {},
   "outputs": [],
   "source": [
    "Xhat_approx = gaussian(im, 1, 0.2, 100)\n",
    "Xhat_approx = cv2.normalize(Xhat_approx, Xhat_approx, 0, 255, cv2.NORM_MINMAX)\n",
    "cv2.imwrite(\"output/monarch_gaussian_100.jpg\", Xhat_approx)"
   ]
  },
  {
   "cell_type": "code",
   "execution_count": null,
   "metadata": {},
   "outputs": [],
   "source": [
    "Xhat_wishart = wishart(im, 1, 0, 100)\n",
    "Xhat_wishart = cv2.normalize(Xhat_wishart, Xhat_wishart, 0, 255, cv2.NORM_MINMAX)\n",
    "cv2.imwrite(\"output/monarch_Wishart_100.jpg\", Xhat_wishart)"
   ]
  },
  {
   "cell_type": "code",
   "execution_count": null,
   "metadata": {},
   "outputs": [],
   "source": [
    "\n",
    "\n",
    "\n",
    "cv2.imshow(\"regular\", im)\n",
    "cv2.waitKey(0)\n",
    "cv2.imshow(\"pca image\", Xhat)\n",
    "cv2.waitKey(0)\n",
    "cv2.imshow(\"pca image perturbed by gaussian\", Xhat_approx)\n",
    "cv2.waitKey(0)\n",
    "cv2.imshow(\"pca image perturbed by wishart\", Xhat_wishart)\n",
    "cv2.waitKey(0)\n",
    "cv2.destroyAllWindows()"
   ]
  },
  {
   "cell_type": "code",
   "execution_count": null,
   "metadata": {},
   "outputs": [],
   "source": []
  },
  {
   "cell_type": "code",
   "execution_count": null,
   "metadata": {},
   "outputs": [],
   "source": []
  }
 ],
 "metadata": {
  "kernelspec": {
   "display_name": "Python 3",
   "language": "python",
   "name": "python3"
  },
  "language_info": {
   "codemirror_mode": {
    "name": "ipython",
    "version": 3
   },
   "file_extension": ".py",
   "mimetype": "text/x-python",
   "name": "python",
   "nbconvert_exporter": "python",
   "pygments_lexer": "ipython3",
   "version": "3.7.6"
  }
 },
 "nbformat": 4,
 "nbformat_minor": 4
}
