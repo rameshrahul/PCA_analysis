{
 "cells": [
  {
   "cell_type": "code",
   "execution_count": 1,
   "metadata": {},
   "outputs": [],
   "source": [
    "import numpy as np"
   ]
  },
  {
   "cell_type": "markdown",
   "metadata": {},
   "source": [
    "Testing code using randomly generated matrices"
   ]
  },
  {
   "cell_type": "code",
   "execution_count": 2,
   "metadata": {},
   "outputs": [],
   "source": [
    "import PCA_implementations as algorithms\n",
    "import PCA_metrics as metrics\n",
    "from PCA_implementations import reconstruct_PCA, k_dim_PCA, microsoft_alg_1, laplace_input_perturbation, wishart_input_perturbation\n",
    "\n",
    "A = np.random.rand(20, 30)"
   ]
  },
  {
   "cell_type": "code",
   "execution_count": 3,
   "metadata": {},
   "outputs": [],
   "source": [
    "k = 20\n",
    "PCA_A = algorithms.k_dim_PCA(np.matmul(np.transpose(A), A), 10)\n"
   ]
  },
  {
   "cell_type": "code",
   "execution_count": 4,
   "metadata": {},
   "outputs": [],
   "source": [
    "insurance = np.loadtxt(\"data/ticdata2000.txt\") #https://liacs.leidenuniv.nl/~puttenpwhvander/library/cc2000/\n",
    "o_ring = np.loadtxt(\"data/o-ring-erosion-only.data\") #https://archive.ics.uci.edu/ml/datasets/Challenger+USA+Space+Shuttle+O-Ring\n",
    "vowels = np.loadtxt(\"data/ae.test\")# https://archive.ics.uci.edu/ml/datasets/Japanese+Vowels"
   ]
  },
  {
   "cell_type": "code",
   "execution_count": null,
   "metadata": {},
   "outputs": [],
   "source": []
  },
  {
   "cell_type": "code",
   "execution_count": 5,
   "metadata": {},
   "outputs": [],
   "source": [
    "epsilon_range = [0.01, 0.1, 0.2, 0.5, 1, 2, 3, 4, 5]\n",
    "delta_range = [0.001, 0.01, 0.1, 0.5, 1]"
   ]
  },
  {
   "cell_type": "code",
   "execution_count": 8,
   "metadata": {},
   "outputs": [],
   "source": [
    "#data_vars = {\"random\":A, \"o-ring\":o_ring}#, \"ae\":vowels, \"insurance\":insurance}\n",
    "\n",
    "\n",
    "random_results = {}\n",
    "o_ring_results = {}\n",
    "vowels_results = {}\n",
    "insurance_results = {}\n",
    "\n",
    "PCA_random = reconstruct_PCA(A, k_dim_PCA(A, k))\n",
    "PCA_oring = reconstruct_PCA(o_ring, k_dim_PCA(o_ring, k))\n",
    "\n",
    "\n",
    "for epsilon in epsilon_range:\n",
    "    random_results[epsilon] = {}\n",
    "    o_ring_results[epsilon] = {}\n",
    "    for delta in delta_range:\n",
    "        random_results[epsilon][delta] = {}\n",
    "        o_ring_results[epsilon][delta] = {}\n",
    "        \n",
    "        microsoft_PCA = reconstruct_PCA(A, microsoft_alg_1(A,epsilon, delta, k))\n",
    "        wishart_PCA = reconstruct_PCA(A, wishart_input_perturbation(A, epsilon, k))\n",
    "        laplace_PCA = reconstruct_PCA(A, laplace_input_perturbation(A, epsilon, k))\n",
    "        random_results[epsilon][delta][\"microsoft\"] = metrics.subspace_dist(PCA_random, microsoft_PCA)\n",
    "        random_results[epsilon][delta][\"wishart\"] = metrics.subspace_dist(PCA_random, wishart_PCA)\n",
    "        random_results[epsilon][delta][\"laplace\"] = metrics.subspace_dist(PCA_random, laplace_PCA)\n",
    "        \n",
    "        \n",
    "        microsoft_PCA = reconstruct_PCA(o_ring, microsoft_alg_1(o_ring,epsilon, delta, k))\n",
    "        wishart_PCA = reconstruct_PCA(o_ring, wishart_input_perturbation(o_ring, epsilon, k))\n",
    "        laplace_PCA = reconstruct_PCA(o_ring, laplace_input_perturbation(o_ring, epsilon, k))\n",
    "        o_ring_results[epsilon][delta][\"microsoft\"] = metrics.subspace_dist(PCA_oring, microsoft_PCA)\n",
    "        o_ring_results[epsilon][delta][\"wishart\"] = metrics.subspace_dist(PCA_oring, wishart_PCA)\n",
    "        o_ring_results[epsilon][delta][\"laplace\"] = metrics.subspace_dist(PCA_oring, laplace_PCA)\n",
    "        \n",
    "        "
   ]
  },
  {
   "cell_type": "code",
   "execution_count": 10,
   "metadata": {},
   "outputs": [
    {
     "name": "stdout",
     "output_type": "stream",
     "text": [
      "{0.01: {0.001: {'microsoft': 5.819818454924555e-13, 'wishart': 9.70217294995662e-13, 'laplace': 7.930269986018627e-13}, 0.01: {'microsoft': 1.0839674469065047e-12, 'wishart': 1.0466090383693032e-12, 'laplace': 5.030370171018112e-13}, 0.1: {'microsoft': 4.784149852008248e-13, 'wishart': 4.748979052721483e-13, 'laplace': 5.080381955741866e-13}, 0.5: {'microsoft': 3.9341695545436455e-13, 'wishart': 1.0396845416661195e-12, 'laplace': 2.9405438373470995e-13}, 1: {'microsoft': 4.2956489746350603e-13, 'wishart': 1.0000748409040794e-12, 'laplace': 3.6389906183430844e-13}}, 0.1: {0.001: {'microsoft': 1.0183267236198458e-12, 'wishart': 1.0025990858142738e-12, 'laplace': 4.767103103261019e-13}, 0.01: {'microsoft': 2.80160677666375e-13, 'wishart': 3.5468082823313163e-13, 'laplace': 6.237590607610749e-13}, 0.1: {'microsoft': 4.599180822217204e-13, 'wishart': 4.753049186087126e-13, 'laplace': 2.1589232338219354e-13}, 0.5: {'microsoft': 3.2471664397898346e-13, 'wishart': 3.738776588793865e-13, 'laplace': 1.0686342710502781e-12}, 1: {'microsoft': 9.715125632938913e-13, 'wishart': 9.766594638282435e-13, 'laplace': 1.237707131720254e-12}}, 0.2: {0.001: {'microsoft': 7.626656602973801e-13, 'wishart': 1.465224493040699e-12, 'laplace': 5.27383419843946e-13}, 0.01: {'microsoft': 7.279893794937942e-13, 'wishart': 4.974931331233838e-13, 'laplace': 1.2224235695475833e-12}, 0.1: {'microsoft': 5.079057146098062e-13, 'wishart': 2.186011092173877e-13, 'laplace': 1.4888748383120592e-12}, 0.5: {'microsoft': 5.611056073001214e-13, 'wishart': 3.483780564856966e-13, 'laplace': 5.063969226467482e-13}, 1: {'microsoft': 3.8304496408317844e-13, 'wishart': 9.570060633805755e-13, 'laplace': 5.552903348879467e-13}}, 0.5: {0.001: {'microsoft': 5.309648724638837e-13, 'wishart': 3.5708101518642783e-13, 'laplace': 5.831276571832134e-13}, 0.01: {'microsoft': 4.4348008804875143e-13, 'wishart': 1.0671568012165591e-13, 'laplace': 7.392835966659551e-13}, 0.1: {'microsoft': 5.821408536270404e-13, 'wishart': 9.853118867919508e-13, 'laplace': 3.062599767571687e-13}, 0.5: {'microsoft': 5.76364210189231e-13, 'wishart': 4.614995568901137e-13, 'laplace': 9.602948562387881e-13}, 1: {'microsoft': 5.942272463568309e-13, 'wishart': 9.473253947946277e-13, 'laplace': 6.207308807723279e-13}}, 1: {0.001: {'microsoft': 5.094730930500216e-13, 'wishart': 9.527634315198033e-13, 'laplace': 5.088907667853996e-13}, 0.01: {'microsoft': 1.4750289016676811e-12, 'wishart': 1.040854624509391e-12, 'laplace': 5.143048965318028e-13}, 0.1: {'microsoft': 9.724527350636493e-13, 'wishart': 5.415564156891147e-13, 'laplace': 9.43031044218023e-14}, 0.5: {'microsoft': 4.745218800539584e-13, 'wishart': 1.0238581169610413e-12, 'laplace': 4.1345370999058216e-13}, 1: {'microsoft': 4.2490870291070005e-13, 'wishart': 4.597822247354601e-13, 'laplace': 4.772624292502892e-13}}, 2: {0.001: {'microsoft': 9.512981618263504e-13, 'wishart': 1.2140115627491238e-12, 'laplace': 5.003819203823276e-13}, 0.01: {'microsoft': 7.381514697779159e-13, 'wishart': 4.998407189752202e-13, 'laplace': 7.3325315500627e-13}, 0.1: {'microsoft': 4.802906094442216e-13, 'wishart': 5.419991574315337e-13, 'laplace': 1.030026384414318e-12}, 0.5: {'microsoft': 5.464254742154992e-13, 'wishart': 1.5393832709209453e-12, 'laplace': 5.269809014777127e-13}, 1: {'microsoft': 5.443588928115906e-13, 'wishart': 5.378735317395591e-13, 'laplace': 9.638274278782913e-13}}, 3: {0.001: {'microsoft': 3.8152945891207707e-13, 'wishart': 9.845618186262087e-13, 'laplace': 1.101408966706765e-12}, 0.01: {'microsoft': 4.847440997889671e-13, 'wishart': 9.644143233931176e-13, 'laplace': 2.421890583512031e-13}, 0.1: {'microsoft': 5.328276880937988e-13, 'wishart': 1.004977202619672e-12, 'laplace': 4.870022720301046e-13}, 0.5: {'microsoft': 4.753451904242236e-13, 'wishart': 1.411263283917761e-12, 'laplace': 2.834096533115732e-13}, 1: {'microsoft': 8.515914110660078e-13, 'wishart': 7.271458608722206e-13, 'laplace': 7.459074413807545e-13}}, 4: {0.001: {'microsoft': 8.513107063056856e-13, 'wishart': 7.492567724532703e-13, 'laplace': 9.823770980470955e-13}, 0.01: {'microsoft': 2.178569201019865e-13, 'wishart': 4.310379984111668e-13, 'laplace': 9.61843617198177e-13}, 0.1: {'microsoft': 5.115722114834803e-13, 'wishart': 9.521240699440798e-13, 'laplace': 4.902501129466727e-13}, 0.5: {'microsoft': 7.498178569491687e-13, 'wishart': 1.0098595177251022e-12, 'laplace': 9.524520391171127e-13}, 1: {'microsoft': 9.565117142161537e-13, 'wishart': 9.395799894925288e-13, 'laplace': 6.326471522310748e-13}}, 5: {0.001: {'microsoft': 1.6154262913311944e-13, 'wishart': 3.220813060020988e-13, 'laplace': 9.886795898487403e-13}, 0.01: {'microsoft': 5.284291548791589e-13, 'wishart': 5.366825220792027e-13, 'laplace': 9.650804264677492e-13}, 0.1: {'microsoft': 5.932788431969833e-13, 'wishart': 5.03358939575604e-13, 'laplace': 7.694916338702133e-13}, 0.5: {'microsoft': 1.0483959984733592e-12, 'wishart': 5.239997871499542e-13, 'laplace': 2.703372148461933e-13}, 1: {'microsoft': 1.472802760155608e-12, 'wishart': 9.58669724348346e-13, 'laplace': 5.1273979080983e-13}}}\n"
     ]
    }
   ],
   "source": [
    "print(o_ring_results)"
   ]
  },
  {
   "cell_type": "code",
   "execution_count": 3,
   "metadata": {},
   "outputs": [],
   "source": [
    "import cv2\n",
    "import sklearn"
   ]
  },
  {
   "cell_type": "code",
   "execution_count": 28,
   "metadata": {},
   "outputs": [
    {
     "data": {
      "text/plain": [
       "True"
      ]
     },
     "execution_count": 28,
     "metadata": {},
     "output_type": "execute_result"
    }
   ],
   "source": [
    "im = cv2.imread(\"data/monarch.png\")\n",
    "im = cv2.cvtColor(im, cv2.COLOR_BGR2GRAY)\n",
    "cv2.imwrite(\"output/monarch_original.jpg\", im)"
   ]
  },
  {
   "cell_type": "code",
   "execution_count": 29,
   "metadata": {},
   "outputs": [
    {
     "data": {
      "text/plain": [
       "True"
      ]
     },
     "execution_count": 29,
     "metadata": {},
     "output_type": "execute_result"
    }
   ],
   "source": [
    "Xhat = algorithms.reconstruct_PCA(im, algorithms.k_dim_PCA(im, 100))\n",
    "Xhat = cv2.normalize(Xhat, Xhat, 0, 255, cv2.NORM_MINMAX)\n",
    "cv2.imwrite(\"output/monarch_PCA_100.jpg\", Xhat)"
   ]
  },
  {
   "cell_type": "code",
   "execution_count": 30,
   "metadata": {},
   "outputs": [
    {
     "data": {
      "text/plain": [
       "True"
      ]
     },
     "execution_count": 30,
     "metadata": {},
     "output_type": "execute_result"
    }
   ],
   "source": [
    "Xhat_approx = algorithms.reconstruct_PCA(im, algorithms.microsoft_alg_1(im, 1, 0.2, 100))\n",
    "Xhat_approx = cv2.normalize(Xhat_approx, Xhat_approx, 0, 255, cv2.NORM_MINMAX)\n",
    "cv2.imwrite(\"output/monarch_Microsoft_100.jpg\", Xhat_approx)"
   ]
  },
  {
   "cell_type": "code",
   "execution_count": 31,
   "metadata": {},
   "outputs": [
    {
     "data": {
      "text/plain": [
       "True"
      ]
     },
     "execution_count": 31,
     "metadata": {},
     "output_type": "execute_result"
    }
   ],
   "source": [
    "Xhat_wishart = algorithms.reconstruct_PCA(im, algorithms.wishart_input_perturbation(im, 1, 100))\n",
    "Xhat_wishart = cv2.normalize(Xhat_wishart, Xhat_wishart, 0, 255, cv2.NORM_MINMAX)\n",
    "cv2.imwrite(\"output/monarch_Wishart_100.jpg\", Xhat_wishart)"
   ]
  },
  {
   "cell_type": "code",
   "execution_count": 15,
   "metadata": {},
   "outputs": [],
   "source": [
    "\n",
    "\n",
    "\n",
    "cv2.imshow(\"regular\", im)\n",
    "cv2.waitKey(0)\n",
    "cv2.imshow(\"pca image\", Xhat)\n",
    "cv2.waitKey(0)\n",
    "cv2.imshow(\"pca image perturbed by microsoft alg\", Xhat_approx)\n",
    "cv2.waitKey(0)\n",
    "cv2.imshow(\"pca image perturbed by wishart\", Xhat_wishart)\n",
    "cv2.waitKey(0)\n",
    "cv2.destroyAllWindows()"
   ]
  },
  {
   "cell_type": "code",
   "execution_count": null,
   "metadata": {},
   "outputs": [],
   "source": []
  },
  {
   "cell_type": "code",
   "execution_count": null,
   "metadata": {},
   "outputs": [],
   "source": []
  }
 ],
 "metadata": {
  "kernelspec": {
   "display_name": "Python 3",
   "language": "python",
   "name": "python3"
  },
  "language_info": {
   "codemirror_mode": {
    "name": "ipython",
    "version": 3
   },
   "file_extension": ".py",
   "mimetype": "text/x-python",
   "name": "python",
   "nbconvert_exporter": "python",
   "pygments_lexer": "ipython3",
   "version": "3.7.6"
  }
 },
 "nbformat": 4,
 "nbformat_minor": 4
}
