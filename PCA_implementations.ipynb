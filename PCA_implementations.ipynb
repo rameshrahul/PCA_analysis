{
 "cells": [
  {
   "cell_type": "code",
   "execution_count": 1,
   "metadata": {},
   "outputs": [],
   "source": [
    "import numpy as np\n",
    "from sklearn.decomposition import PCA   "
   ]
  },
  {
   "cell_type": "code",
   "execution_count": null,
   "metadata": {},
   "outputs": [],
   "source": [
    "# implements Gaussian Mechanism - relasing covariance privately\n",
    "# as seen from Microsoft paper\n",
    "def microsoft_alg_1(A, epsilon, delta):\n",
    "    \n",
    "    gram_A = np.matmul(np.transpose(A), A)\n",
    "    \n",
    "    num_data, dimension = A.shape \n",
    "    E = np.zeros(gram_A.shape)\n",
    "    \n",
    "    \n",
    "    # set upper triangle including diagonal to normal. set lower triangle\n",
    "    # to copy of upper triangle\n",
    "    for row in range(dimension):\n",
    "        for col in range(row, dimension, 1):\n",
    "            E[row][col] = np.random.normal(0, \n",
    "                                           np.square(delta_1(epsilon, delta)))\n",
    "\n",
    "\n",
    "    return np.add(gram)\n",
    "            \n",
    "# delta function in microsoft for generating symmetric noise\n",
    "def delta_1(epsilon, delta):\n",
    "    return np.sqrt(2*np.log(1.25/delta))/epsilon"
   ]
  }
 ],
 "metadata": {
  "kernelspec": {
   "display_name": "Python 3",
   "language": "python",
   "name": "python3"
  },
  "language_info": {
   "codemirror_mode": {
    "name": "ipython",
    "version": 3
   },
   "file_extension": ".py",
   "mimetype": "text/x-python",
   "name": "python",
   "nbconvert_exporter": "python",
   "pygments_lexer": "ipython3",
   "version": "3.7.6"
  }
 },
 "nbformat": 4,
 "nbformat_minor": 4
}
