{
 "cells": [
  {
   "cell_type": "code",
   "execution_count": 1,
   "metadata": {},
   "outputs": [],
   "source": [
    "import numpy as np\n",
    "from sklearn.decomposition import PCA   \n"
   ]
  },
  {
   "cell_type": "code",
   "execution_count": null,
   "metadata": {},
   "outputs": [],
   "source": [
    "def k_dim_PCA(A, k):\n",
    "    pca = PCA(n_components=k)\n",
    "    return pca.fit_transform(A)"
   ]
  },
  {
   "cell_type": "code",
   "execution_count": 2,
   "metadata": {},
   "outputs": [],
   "source": [
    "# implements Gaussian Mechanism - relasing covariance privately\n",
    "# as seen from Microsoft paper \n",
    "# https://www.microsoft.com/en-us/research/wp-content/uploads/2014/06/PrivatePCA.pdf\n",
    "def microsoft_alg_1(A, epsilon, delta, k):\n",
    "    \n",
    "    gram_A = np.matmul(np.transpose(A), A)\n",
    "    \n",
    "    num_data, dimension = A.shape \n",
    "    E = np.zeros(gram_A.shape)\n",
    "    \n",
    "    \n",
    "    # set upper triangle including diagonal to normal. set lower triangle\n",
    "    # to copy of upper triangle\n",
    "    for row in range(dimension):\n",
    "        for col in range(row, dimension, 1):\n",
    "            E[row][col] = np.random.normal(0, \n",
    "                                           np.square(delta_1(epsilon, delta)))\n",
    "\n",
    "\n",
    "    return k_dim_PCA(np.add(gram_A, E), k)\n",
    "            \n",
    "# delta function in microsoft for generating symmetric noise\n",
    "def delta_1(epsilon, delta):\n",
    "    return np.sqrt(2*np.log(1.25/delta))/epsilon"
   ]
  },
  {
   "cell_type": "code",
   "execution_count": 3,
   "metadata": {},
   "outputs": [],
   "source": [
    "# implements Laplace input perturbation\n",
    "# as seen from Jiang, Xie, and Zhang\n",
    "# https://arxiv.org/pdf/1511.05680.pdf\n",
    "\n",
    "def laplace_input_perturbation(A, epsilon, k):\n",
    "    \n",
    "    gram_A = np.matmul(np.transpose(A), A)\n",
    "    \n",
    "    num_data, dimension = A.shape\n",
    "    L = np.zeros(gram_A.shape)\n",
    "    \n",
    "    \n",
    "    # set upper triangle including diagonal to normal. set lower triangle\n",
    "    # to copy of upper triangle\n",
    "    for row in range(dimension):\n",
    "        for col in range(row, dimension, 1):\n",
    "            E[row][col] = np.random.laplace(0, 2 * dimension/(num_data * epsilon))\n",
    "\n",
    "    \n",
    "    gram_A = gram_A * (1/num_data)\n",
    "    \n",
    "    return k_dim_PCA(np.add(gram_A, L), k)"
   ]
  },
  {
   "cell_type": "code",
   "execution_count": null,
   "metadata": {},
   "outputs": [],
   "source": [
    "from scipy.stats import wishart\n",
    "\n",
    "# implements Wishart input perturbation\n",
    "# https://arxiv.org/pdf/1511.05680.pdf\n",
    "\n",
    "def wishart_input_perturbation(A, epsilon, k):\n",
    "    gram_A = np.matmul(np.transpose(A), A)\n",
    "    num_data, dimension = A.shape\n",
    "    \n",
    "    C = np.identity(dimension)*3/(2*num_data*epsilon)\n",
    "    \n",
    "    #randomly sample wishart\n",
    "    W = wishart.rvs(df=dimension+1, scale=C, size=1)\n",
    "    \n",
    "    gram_A = gram_A * (1/num_data)\n",
    "    \n",
    "    return k_dim_PCA(np.add(gram_A, W), k)"
   ]
  }
 ],
 "metadata": {
  "kernelspec": {
   "display_name": "Python 3",
   "language": "python",
   "name": "python3"
  },
  "language_info": {
   "codemirror_mode": {
    "name": "ipython",
    "version": 3
   },
   "file_extension": ".py",
   "mimetype": "text/x-python",
   "name": "python",
   "nbconvert_exporter": "python",
   "pygments_lexer": "ipython3",
   "version": "3.7.6"
  }
 },
 "nbformat": 4,
 "nbformat_minor": 4
}
