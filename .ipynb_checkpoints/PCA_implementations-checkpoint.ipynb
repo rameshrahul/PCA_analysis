{
 "cells": [
  {
   "cell_type": "code",
   "execution_count": 1,
   "metadata": {},
   "outputs": [],
   "source": [
    "import numpy as np\n",
    "from sklearn.decomposition import PCA   \n"
   ]
  },
  {
   "cell_type": "code",
   "execution_count": null,
   "metadata": {},
   "outputs": [],
   "source": [
    "def k_dim_PCA(A, k):\n",
    "    pca = PCA(n_components=k)\n",
    "    return pca.fit_transform(A)"
   ]
  },
  {
   "cell_type": "code",
   "execution_count": 2,
   "metadata": {},
   "outputs": [],
   "source": [
    "# implements Gaussian Mechanism - relasing covariance privately\n",
    "# as seen from Microsoft paper \n",
    "# https://www.microsoft.com/en-us/research/wp-content/uploads/2014/06/PrivatePCA.pdf\n",
    "def microsoft_alg_1(A, epsilon, delta, k):\n",
    "    \n",
    "    gram_A = np.matmul(np.transpose(A), A)\n",
    "    \n",
    "    num_data, dimension = A.shape \n",
    "    E = np.zeros(gram_A.shape)\n",
    "    \n",
    "    \n",
    "    # set upper triangle including diagonal to normal. set lower triangle\n",
    "    # to copy of upper triangle\n",
    "    for row in range(dimension):\n",
    "        for col in range(row, dimension, 1):\n",
    "            E[row][col] = np.random.normal(0, \n",
    "                                           np.square(delta_1(epsilon, delta)))\n",
    "\n",
    "\n",
    "    return k_dim_PCA(np.add(gram_A, E), k)\n",
    "            \n",
    "# delta function in microsoft for generating symmetric noise\n",
    "def delta_1(epsilon, delta):\n",
    "    return np.sqrt(2*np.log(1.25/delta))/epsilon"
   ]
  },
  {
   "cell_type": "code",
   "execution_count": 2,
   "metadata": {},
   "outputs": [
    {
     "ename": "SyntaxError",
     "evalue": "invalid syntax (<ipython-input-2-9ac0bf48d2a9>, line 20)",
     "output_type": "error",
     "traceback": [
      "\u001b[1;36m  File \u001b[1;32m\"<ipython-input-2-9ac0bf48d2a9>\"\u001b[1;36m, line \u001b[1;32m20\u001b[0m\n\u001b[1;33m    gram_A = gram_A * (1/num_data)asdf\u001b[0m\n\u001b[1;37m                                     ^\u001b[0m\n\u001b[1;31mSyntaxError\u001b[0m\u001b[1;31m:\u001b[0m invalid syntax\n"
     ]
    }
   ],
   "source": [
    "# implements Laplace perturbation\n",
    "# as seen from Jiang, Xie, and Zhang\n",
    "# https://arxiv.org/pdf/1511.05680.pdf\n",
    "\n",
    "def laplace_input_perturbation(A, epsilon):\n",
    "    \n",
    "    gram_A = np.matmul(np.transpose(A), A)\n",
    "    \n",
    "    num_data, dimension = A.shape\n",
    "    L = np.zeros(gram_A.shape)\n",
    "    \n",
    "    \n",
    "    # set upper triangle including diagonal to normal. set lower triangle\n",
    "    # to copy of upper triangle\n",
    "    for row in range(dimension):\n",
    "        for col in range(row, dimension, 1):\n",
    "            E[row][col] = np.random.laplace(0, 2 * dimension/(num_data * epsilon))\n",
    "\n",
    "    \n",
    "    gram_A = gram_A * (1/num_data)\n",
    "    \n",
    "    return k_dim_PCA(np.add(gram_A, L), k)"
   ]
  },
  {
   "cell_type": "code",
   "execution_count": null,
   "metadata": {},
   "outputs": [],
   "source": []
  }
 ],
 "metadata": {
  "kernelspec": {
   "display_name": "Python 3",
   "language": "python",
   "name": "python3"
  },
  "language_info": {
   "codemirror_mode": {
    "name": "ipython",
    "version": 3
   },
   "file_extension": ".py",
   "mimetype": "text/x-python",
   "name": "python",
   "nbconvert_exporter": "python",
   "pygments_lexer": "ipython3",
   "version": "3.7.6"
  }
 },
 "nbformat": 4,
 "nbformat_minor": 4
}
