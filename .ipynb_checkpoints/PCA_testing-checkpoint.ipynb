{
 "cells": [
  {
   "cell_type": "code",
   "execution_count": 4,
   "metadata": {},
   "outputs": [],
   "source": [
    "import numpy as np"
   ]
  },
  {
   "cell_type": "markdown",
   "metadata": {},
   "source": [
    "Testing code using randomly generated matrices"
   ]
  },
  {
   "cell_type": "code",
   "execution_count": 5,
   "metadata": {},
   "outputs": [],
   "source": [
    "import PCA_implementations as algorithms\n",
    "import PCA_metrics as metrics\n",
    "\n",
    "A = np.random.rand(20, 30)"
   ]
  },
  {
   "cell_type": "code",
   "execution_count": 3,
   "metadata": {},
   "outputs": [
    {
     "ename": "NameError",
     "evalue": "name 'np' is not defined",
     "output_type": "error",
     "traceback": [
      "\u001b[1;31m---------------------------------------------------------------------------\u001b[0m",
      "\u001b[1;31mNameError\u001b[0m                                 Traceback (most recent call last)",
      "\u001b[1;32m<ipython-input-3-f47a9b254ffd>\u001b[0m in \u001b[0;36m<module>\u001b[1;34m\u001b[0m\n\u001b[0;32m      1\u001b[0m \u001b[0mk\u001b[0m \u001b[1;33m=\u001b[0m \u001b[1;36m10\u001b[0m\u001b[1;33m\u001b[0m\u001b[1;33m\u001b[0m\u001b[0m\n\u001b[1;32m----> 2\u001b[1;33m \u001b[0mPCA_A\u001b[0m \u001b[1;33m=\u001b[0m \u001b[0malgorithms\u001b[0m\u001b[1;33m.\u001b[0m\u001b[0mk_dim_PCA\u001b[0m\u001b[1;33m(\u001b[0m\u001b[0mnp\u001b[0m\u001b[1;33m.\u001b[0m\u001b[0mmatmul\u001b[0m\u001b[1;33m(\u001b[0m\u001b[0mnp\u001b[0m\u001b[1;33m.\u001b[0m\u001b[0mtranspose\u001b[0m\u001b[1;33m(\u001b[0m\u001b[0mA\u001b[0m\u001b[1;33m)\u001b[0m\u001b[1;33m,\u001b[0m \u001b[0mA\u001b[0m\u001b[1;33m)\u001b[0m\u001b[1;33m,\u001b[0m \u001b[1;36m10\u001b[0m\u001b[1;33m)\u001b[0m\u001b[1;33m\u001b[0m\u001b[1;33m\u001b[0m\u001b[0m\n\u001b[0m",
      "\u001b[1;31mNameError\u001b[0m: name 'np' is not defined"
     ]
    }
   ],
   "source": [
    "k = 10\n",
    "PCA_A = algorithms.k_dim_PCA(np.matmul(np.transpose(A), A), 10)\n"
   ]
  },
  {
   "cell_type": "code",
   "execution_count": null,
   "metadata": {},
   "outputs": [],
   "source": []
  },
  {
   "cell_type": "code",
   "execution_count": null,
   "metadata": {},
   "outputs": [],
   "source": [
    "    "
   ]
  },
  {
   "cell_type": "code",
   "execution_count": 4,
   "metadata": {},
   "outputs": [],
   "source": [
    "epsilon_range = [0.01, 0.1, 0.2, 0.5, 1, 2, 3, 4, 5]\n",
    "delta_range = [0.001, 0.01, 0.1, 0.5, 1]"
   ]
  },
  {
   "cell_type": "code",
   "execution_count": 6,
   "metadata": {},
   "outputs": [
    {
     "name": "stdout",
     "output_type": "stream",
     "text": [
      "epsilon: 0.01\n",
      "epsilon: 0.1\n",
      "epsilon: 0.2\n",
      "epsilon: 0.5\n",
      "epsilon: 1\n",
      "epsilon: 2\n",
      "epsilon: 3\n",
      "epsilon: 4\n",
      "epsilon: 5\n"
     ]
    }
   ],
   "source": [
    "for epsilon in epsilon_range:\n",
    "    #print(\"epsilon: {}\".format(epsilon))\n",
    "    for delta in delta_range:\n",
    "        #print(\"\\tdelta: {}\".format(delta))\n",
    "        alg_1_PCA = algorithms.microsoft_alg_1(A,epsilon, delta, k)\n",
    "        #print(\"\\t\\t{}\".format(metrics.subspace_dist(PCA_A, alg_1_PCA)))"
   ]
  },
  {
   "cell_type": "code",
   "execution_count": 17,
   "metadata": {},
   "outputs": [],
   "source": [
    "import cv2\n",
    "import sklearn"
   ]
  },
  {
   "cell_type": "code",
   "execution_count": 46,
   "metadata": {},
   "outputs": [
    {
     "name": "stdout",
     "output_type": "stream",
     "text": [
      "17 245\n"
     ]
    }
   ],
   "source": [
    "im = cv2.imread(\"data/monarch.png\")\n",
    "im = cv2.cvtColor(im, cv2.COLOR_BGR2GRAY)\n",
    "#im = cv2.resize(im, (512, 512))\n",
    "print(np.amin(im), np.amax(im))"
   ]
  },
  {
   "cell_type": "code",
   "execution_count": 53,
   "metadata": {},
   "outputs": [
    {
     "name": "stdout",
     "output_type": "stream",
     "text": [
      "1.8012004063137848e-19 1.0\n"
     ]
    }
   ],
   "source": [
    "mu = np.mean(im, axis=0)\n",
    "\n",
    "pca = sklearn.decomposition.PCA()\n",
    "pca.fit(im)\n",
    "\n",
    "nComp = 100\n",
    "Xhat = np.dot(pca.transform(im)[:,:nComp], pca.components_[:nComp,:])\n",
    "Xhat += mu\n",
    "Xhat = cv2.normalize(Xhat, Xhat, 0, 1, cv2.NORM_MINMAX)"
   ]
  },
  {
   "cell_type": "code",
   "execution_count": 54,
   "metadata": {},
   "outputs": [],
   "source": [
    "cv2.imshow(\"regular\", im)\n",
    "cv2.waitKey(0)\n",
    "cv2.imshow(\"pca image\", Xhat)\n",
    "cv2.waitKey(0)\n",
    "cv2.destroyAllWindows()"
   ]
  },
  {
   "cell_type": "code",
   "execution_count": null,
   "metadata": {},
   "outputs": [],
   "source": []
  },
  {
   "cell_type": "code",
   "execution_count": null,
   "metadata": {},
   "outputs": [],
   "source": []
  }
 ],
 "metadata": {
  "kernelspec": {
   "display_name": "Python 3",
   "language": "python",
   "name": "python3"
  },
  "language_info": {
   "codemirror_mode": {
    "name": "ipython",
    "version": 3
   },
   "file_extension": ".py",
   "mimetype": "text/x-python",
   "name": "python",
   "nbconvert_exporter": "python",
   "pygments_lexer": "ipython3",
   "version": "3.7.6"
  }
 },
 "nbformat": 4,
 "nbformat_minor": 4
}
