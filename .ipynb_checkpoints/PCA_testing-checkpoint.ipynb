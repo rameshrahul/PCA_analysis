{
 "cells": [
  {
   "cell_type": "code",
   "execution_count": 1,
   "metadata": {},
   "outputs": [],
   "source": [
    "import numpy as np"
   ]
  },
  {
   "cell_type": "markdown",
   "metadata": {},
   "source": [
    "Testing code using randomly generated matrices"
   ]
  },
  {
   "cell_type": "code",
   "execution_count": 37,
   "metadata": {},
   "outputs": [],
   "source": [
    "import PCA_implementations as algorithms\n",
    "import PCA_metrics as metrics\n",
    "from PCA_implementations import reconstruct_PCA, k_dim_PCA\n",
    "\n",
    "A = np.random.rand(20, 30)"
   ]
  },
  {
   "cell_type": "code",
   "execution_count": 3,
   "metadata": {},
   "outputs": [],
   "source": [
    "k = 20\n",
    "PCA_A = algorithms.k_dim_PCA(np.matmul(np.transpose(A), A), 10)\n"
   ]
  },
  {
   "cell_type": "code",
   "execution_count": 36,
   "metadata": {},
   "outputs": [],
   "source": [
    "insurance = np.loadtxt(\"data/ticdata2000.txt\") #https://liacs.leidenuniv.nl/~puttenpwhvander/library/cc2000/\n",
    "o_ring = np.loadtxt(\"data/o-ring-erosion-only.data\") #https://archive.ics.uci.edu/ml/datasets/Challenger+USA+Space+Shuttle+O-Ring\n",
    "vowels = np.loadtxt(\"data/ae.test\")# https://archive.ics.uci.edu/ml/datasets/Japanese+Vowels"
   ]
  },
  {
   "cell_type": "code",
   "execution_count": null,
   "metadata": {},
   "outputs": [],
   "source": []
  },
  {
   "cell_type": "code",
   "execution_count": 4,
   "metadata": {},
   "outputs": [],
   "source": [
    "epsilon_range = [0.01, 0.1, 0.2, 0.5, 1, 2, 3, 4, 5]\n",
    "delta_range = [0.001, 0.01, 0.1, 0.5, 1]"
   ]
  },
  {
   "cell_type": "code",
   "execution_count": 5,
   "metadata": {},
   "outputs": [
    {
     "name": "stdout",
     "output_type": "stream",
     "text": [
      "epsilon: 0.01\n",
      "\tdelta: 0.001\n",
      "\t\t3.685214383414356\n",
      "\tdelta: 0.01\n",
      "\t\t3.6059129156825667\n",
      "\tdelta: 0.1\n",
      "\t\t3.5888037134695154\n",
      "\tdelta: 0.5\n",
      "\t\t3.7959256111694217\n",
      "\tdelta: 1\n",
      "\t\t3.6636230393278586\n",
      "epsilon: 0.1\n",
      "\tdelta: 0.001\n",
      "\t\t3.824721171409925\n",
      "\tdelta: 0.01\n",
      "\t\t3.7222174160940042\n",
      "\tdelta: 0.1\n",
      "\t\t3.6050534605471105\n",
      "\tdelta: 0.5\n",
      "\t\t3.7101446485085754\n",
      "\tdelta: 1\n",
      "\t\t3.7195657924890346\n",
      "epsilon: 0.2\n",
      "\tdelta: 0.001\n",
      "\t\t3.7217545593817283\n",
      "\tdelta: 0.01\n",
      "\t\t3.6948085894408793\n",
      "\tdelta: 0.1\n",
      "\t\t3.683418358716257\n",
      "\tdelta: 0.5\n",
      "\t\t3.744810677279394\n",
      "\tdelta: 1\n",
      "\t\t3.5040068453914137\n",
      "epsilon: 0.5\n",
      "\tdelta: 0.001\n",
      "\t\t3.4774664124458248\n",
      "\tdelta: 0.01\n",
      "\t\t3.5144330629206926\n",
      "\tdelta: 0.1\n",
      "\t\t3.4344538756796648\n",
      "\tdelta: 0.5\n",
      "\t\t3.581001984524305\n",
      "\tdelta: 1\n",
      "\t\t3.531901813238099\n",
      "epsilon: 1\n",
      "\tdelta: 0.001\n",
      "\t\t3.6594378074355496\n",
      "\tdelta: 0.01\n",
      "\t\t3.68962904284918\n",
      "\tdelta: 0.1\n",
      "\t\t3.6532316175970982\n",
      "\tdelta: 0.5\n",
      "\t\t3.5209663254882346\n",
      "\tdelta: 1\n",
      "\t\t2.4215551686830206\n",
      "epsilon: 2\n",
      "\tdelta: 0.001\n",
      "\t\t3.581263379947382\n",
      "\tdelta: 0.01\n",
      "\t\t3.491221102677753\n",
      "\tdelta: 0.1\n",
      "\t\t3.3507878463983602\n",
      "\tdelta: 0.5\n",
      "\t\t2.606164549493809\n",
      "\tdelta: 1\n",
      "\t\t1.6233647240775018\n",
      "epsilon: 3\n",
      "\tdelta: 0.001\n",
      "\t\t3.3400943379781696\n",
      "\tdelta: 0.01\n",
      "\t\t3.266666511962957\n",
      "\tdelta: 0.1\n",
      "\t\t2.9039025375991794\n",
      "\tdelta: 0.5\n",
      "\t\t1.7774421196648484\n",
      "\tdelta: 1\n",
      "\t\t0.44196759062093793\n",
      "epsilon: 4\n",
      "\tdelta: 0.001\n",
      "\t\t3.352242539741846\n",
      "\tdelta: 0.01\n",
      "\t\t2.6664659083886857\n",
      "\tdelta: 0.1\n",
      "\t\t2.0897989270457993\n",
      "\tdelta: 0.5\n",
      "\t\t1.1178640356599\n",
      "\tdelta: 1\n",
      "\t\t0.7931784206862521\n",
      "epsilon: 5\n",
      "\tdelta: 0.001\n",
      "\t\t2.9699947307782053\n",
      "\tdelta: 0.01\n",
      "\t\t2.4580684423888486\n",
      "\tdelta: 0.1\n",
      "\t\t1.8039444249840422\n",
      "\tdelta: 0.5\n",
      "\t\t1.4522477085785845\n",
      "\tdelta: 1\n",
      "\t\t0.18090811324902403\n"
     ]
    }
   ],
   "source": [
    "alg_list = []\n",
    "data_vars = {\"random\":A, \"o-ring\":o_ring, \"ae\":vowels, \"insurance\":insurance}\n",
    "\n",
    "\n",
    "random_results = {}\n",
    "o_ring_results = {}\n",
    "vowels_results = {}\n",
    "insurance_results = {}\n",
    "\n",
    "PCA_random = reconstruct_PCA(A, k_dim_PCA(A, k))\n",
    "PCA_oring = algorithms.reconstruct_PCA(o_ring, algorithms.)\n",
    "\n",
    "\n",
    "for epsilon in epsilon_range:\n",
    "    random_data[epsilon] = {}\n",
    "    for delta in delta_range:\n",
    "        alg_1_PCA = algorithms.microsoft_alg_1(A,epsilon, delta, k)\n",
    "        print(\"\\t\\t{}\".format(metrics.subspace_dist(PCA_A, alg_1_PCA)))"
   ]
  },
  {
   "cell_type": "code",
   "execution_count": 3,
   "metadata": {},
   "outputs": [],
   "source": [
    "import cv2\n",
    "import sklearn"
   ]
  },
  {
   "cell_type": "code",
   "execution_count": 28,
   "metadata": {},
   "outputs": [
    {
     "data": {
      "text/plain": [
       "True"
      ]
     },
     "execution_count": 28,
     "metadata": {},
     "output_type": "execute_result"
    }
   ],
   "source": [
    "im = cv2.imread(\"data/monarch.png\")\n",
    "im = cv2.cvtColor(im, cv2.COLOR_BGR2GRAY)\n",
    "cv2.imwrite(\"output/monarch_original.jpg\", im)"
   ]
  },
  {
   "cell_type": "code",
   "execution_count": 29,
   "metadata": {},
   "outputs": [
    {
     "data": {
      "text/plain": [
       "True"
      ]
     },
     "execution_count": 29,
     "metadata": {},
     "output_type": "execute_result"
    }
   ],
   "source": [
    "Xhat = algorithms.reconstruct_PCA(im, algorithms.k_dim_PCA(im, 100))\n",
    "Xhat = cv2.normalize(Xhat, Xhat, 0, 255, cv2.NORM_MINMAX)\n",
    "cv2.imwrite(\"output/monarch_PCA_100.jpg\", Xhat)"
   ]
  },
  {
   "cell_type": "code",
   "execution_count": 30,
   "metadata": {},
   "outputs": [
    {
     "data": {
      "text/plain": [
       "True"
      ]
     },
     "execution_count": 30,
     "metadata": {},
     "output_type": "execute_result"
    }
   ],
   "source": [
    "Xhat_approx = algorithms.reconstruct_PCA(im, algorithms.microsoft_alg_1(im, 1, 0.2, 100))\n",
    "Xhat_approx = cv2.normalize(Xhat_approx, Xhat_approx, 0, 255, cv2.NORM_MINMAX)\n",
    "cv2.imwrite(\"output/monarch_Microsoft_100.jpg\", Xhat_approx)"
   ]
  },
  {
   "cell_type": "code",
   "execution_count": 31,
   "metadata": {},
   "outputs": [
    {
     "data": {
      "text/plain": [
       "True"
      ]
     },
     "execution_count": 31,
     "metadata": {},
     "output_type": "execute_result"
    }
   ],
   "source": [
    "Xhat_wishart = algorithms.reconstruct_PCA(im, algorithms.wishart_input_perturbation(im, 1, 100))\n",
    "Xhat_wishart = cv2.normalize(Xhat_wishart, Xhat_wishart, 0, 255, cv2.NORM_MINMAX)\n",
    "cv2.imwrite(\"output/monarch_Wishart_100.jpg\", Xhat_wishart)"
   ]
  },
  {
   "cell_type": "code",
   "execution_count": 15,
   "metadata": {},
   "outputs": [],
   "source": [
    "\n",
    "\n",
    "\n",
    "cv2.imshow(\"regular\", im)\n",
    "cv2.waitKey(0)\n",
    "cv2.imshow(\"pca image\", Xhat)\n",
    "cv2.waitKey(0)\n",
    "cv2.imshow(\"pca image perturbed by microsoft alg\", Xhat_approx)\n",
    "cv2.waitKey(0)\n",
    "cv2.imshow(\"pca image perturbed by wishart\", Xhat_wishart)\n",
    "cv2.waitKey(0)\n",
    "cv2.destroyAllWindows()"
   ]
  },
  {
   "cell_type": "code",
   "execution_count": null,
   "metadata": {},
   "outputs": [],
   "source": []
  },
  {
   "cell_type": "code",
   "execution_count": null,
   "metadata": {},
   "outputs": [],
   "source": []
  }
 ],
 "metadata": {
  "kernelspec": {
   "display_name": "Python 3",
   "language": "python",
   "name": "python3"
  },
  "language_info": {
   "codemirror_mode": {
    "name": "ipython",
    "version": 3
   },
   "file_extension": ".py",
   "mimetype": "text/x-python",
   "name": "python",
   "nbconvert_exporter": "python",
   "pygments_lexer": "ipython3",
   "version": "3.7.6"
  }
 },
 "nbformat": 4,
 "nbformat_minor": 4
}
